{
 "cells": [
  {
   "cell_type": "markdown",
   "metadata": {},
   "source": [
    "# Практична роботи № 1 - “Визначення критеріїв подібності”\n",
    "\n",
    "Процес описується n величинами (X1, X2,...,Xn). Визначити кількість незалежних критеріїв подібності. Знайти заданим методом три лінійно незалежні критерії подібності. n=6. Розмірності величин задано в системі одиниць СІ.\n",
    "\n",
    "| № з/п | X1 | X2 | X3 | X4 | X5 | X6 | Метод\n",
    "|-------|----|----|----|----|----|----|------\n",
    "| 10 | кг | кг м^-2 сек^-2 | м | м^2 кг сек^-2 | сек | сек^-1 | Метод визначальних рівнянь"
   ]
  },
  {
   "cell_type": "markdown",
   "metadata": {},
   "source": [
    "| Величина | [L] | [M] | [T]\n",
    "|----------|-----|-----|-----|\n",
    "|X1| 0  | 1 | 0\n",
    "|X1| 0  | 0 | -1"
   ]
  },
  {
   "cell_type": "code",
   "execution_count": 45,
   "metadata": {
    "collapsed": false
   },
   "outputs": [],
   "source": [
    "import numpy as np\n",
    "\n",
    "# Таблиця коефіцієнтів, і система рівнянь\n",
    "S = np.matrix([\n",
    "    # x1, x2,  x3,  x4,  x5,  x6\n",
    "    [0.0, 0.0, 1.0, 2.0, 0.0, 2.0], # [L]\n",
    "    [1.0, 0.0, 0.0, 1.0, 0.0, 1.0], # [M]\n",
    "    [0.0, -1.0, 0.0, -2.0, 1.0, 0.00] # [T] \n",
    "])"
   ]
  },
  {
   "cell_type": "code",
   "execution_count": 47,
   "metadata": {
    "collapsed": false
   },
   "outputs": [
    {
     "data": {
      "text/plain": [
       "matrix([[ 1.,  0.,  2., -1., -2.,  0.],\n",
       "        [ 0.,  1., -0.,  0.,  1.,  0.],\n",
       "        [ 0.,  0.,  0.,  1.,  2., -1.]])"
      ]
     },
     "execution_count": 47,
     "metadata": {},
     "output_type": "execute_result"
    }
   ],
   "source": [
    "# Вирішує методом Гауса враховуючи інші елементи=0\n",
    "def sol(a, b1, b2, b3):\n",
    "    res = np.zeros(6)\n",
    "    A = S[:,[b1,b2,b3]]\n",
    "    if np.linalg.det(A) == 0.0:\n",
    "        return res\n",
    "    solved = np.linalg.solve(S[:,[b1,b2,b3]],-S[:,a])\n",
    "    res[a] = 1\n",
    "    res[b1] = solved[0]\n",
    "    res[b2] = solved[1]\n",
    "    res[b3] = solved[2]\n",
    "    \n",
    "    return res\n",
    "  \n",
    "# Руками підібрав ті комбінації що мають розв'язки\n",
    "# Прикольно було б автоматично порахувати\n",
    "np.matrix([\n",
    "    sol(0, 2, 3, 4),\n",
    "    sol(1, 2, 4, 5),\n",
    "    sol(3, 2, 4, 5),\n",
    "])\n",
    "# x1, x2,  x3,  x4,  x5,  x6"
   ]
  },
  {
   "cell_type": "markdown",
   "metadata": {},
   "source": [
    "Результучі критерії подібності\n",
    "\n",
    "1. `кг * м^2 * (м^2 кг сек^-2)^-1 * сек^2`\n",
    "2. `кг м^-2 сек^-2 * сек`\n",
    "3. `м^2 кг сек^-2 * сек^2 * (сек^-1)^-1`"
   ]
  },
  {
   "cell_type": "code",
   "execution_count": null,
   "metadata": {
    "collapsed": true
   },
   "outputs": [],
   "source": []
  }
 ],
 "metadata": {
  "kernelspec": {
   "display_name": "Python 3",
   "language": "python",
   "name": "python3"
  },
  "language_info": {
   "codemirror_mode": {
    "name": "ipython",
    "version": 3
   },
   "file_extension": ".py",
   "mimetype": "text/x-python",
   "name": "python",
   "nbconvert_exporter": "python",
   "pygments_lexer": "ipython3",
   "version": "3.4.1"
  }
 },
 "nbformat": 4,
 "nbformat_minor": 0
}
