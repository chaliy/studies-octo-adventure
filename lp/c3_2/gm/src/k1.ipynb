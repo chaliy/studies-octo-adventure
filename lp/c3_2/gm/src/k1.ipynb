{
 "cells": [
  {
   "cell_type": "markdown",
   "metadata": {},
   "source": [
    "## Завдання А.а\n",
    "Провести перетворення кольору RGB => YIQ"
   ]
  },
  {
   "cell_type": "code",
   "execution_count": 1,
   "metadata": {
    "collapsed": true
   },
   "outputs": [],
   "source": [
    "color = '#ff8c00'"
   ]
  },
  {
   "cell_type": "markdown",
   "metadata": {},
   "source": [
    "#### Реалізація"
   ]
  },
  {
   "cell_type": "code",
   "execution_count": 2,
   "metadata": {
    "collapsed": false
   },
   "outputs": [],
   "source": [
    "import matplotlib.colors as colors\n",
    "import numpy as np\n",
    "\n",
    "rgb = np.matrix(colors.hex2color(color))\n",
    "\n",
    "coef = np.matrix([[0.299, 0.587, 0.114],\n",
    "        [0.596, -0.274, -0.322],\n",
    "        [0.211, -0.522, 0.311]])\n",
    "\n",
    "yiq = coef * rgb.T"
   ]
  },
  {
   "cell_type": "markdown",
   "metadata": {},
   "source": [
    "#### Результат"
   ]
  },
  {
   "cell_type": "code",
   "execution_count": 3,
   "metadata": {
    "collapsed": false
   },
   "outputs": [
    {
     "data": {
      "text/plain": [
       "matrix([[ 0.62127451],\n",
       "        [ 0.44556863],\n",
       "        [-0.07558824]])"
      ]
     },
     "execution_count": 3,
     "metadata": {},
     "output_type": "execute_result"
    }
   ],
   "source": [
    "yiq"
   ]
  },
  {
   "cell_type": "markdown",
   "metadata": {},
   "source": [
    "Перевірка за допомогою функції Python"
   ]
  },
  {
   "cell_type": "code",
   "execution_count": 4,
   "metadata": {
    "collapsed": false
   },
   "outputs": [
    {
     "data": {
      "text/plain": [
       "(0.62392156862745096, 0.44675686274509807, -0.075290196078431321)"
      ]
     },
     "execution_count": 4,
     "metadata": {},
     "output_type": "execute_result"
    }
   ],
   "source": [
    "import colorsys\n",
    "colorsys.rgb_to_yiq(rgb[0, 0], rgb[0, 1], rgb[0, 2])"
   ]
  },
  {
   "cell_type": "markdown",
   "metadata": {},
   "source": [
    "## Завдання А.б\n",
    "здійснити змішування чотирьох колборів у пропорції"
   ]
  },
  {
   "cell_type": "code",
   "execution_count": 5,
   "metadata": {
    "collapsed": true
   },
   "outputs": [],
   "source": [
    "color1 = '#ff8c00' # 30\n",
    "color2 = '#f08080' # 65\n",
    "color3 = '#b0c4de' # 75\n",
    "color4 = '#9370db' # 85\n",
    "proportions = [1, 2, 3, 4]"
   ]
  },
  {
   "cell_type": "markdown",
   "metadata": {},
   "source": [
    "#### Реалізація"
   ]
  },
  {
   "cell_type": "code",
   "execution_count": 6,
   "metadata": {
    "collapsed": false
   },
   "outputs": [],
   "source": [
    "import matplotlib.colors as colors\n",
    "import numpy as np\n",
    "\n",
    "rgbs = np.matrix([colors.hex2color(c) \n",
    "                  for c in [color1, color2, color3, color4]]).T\n",
    "\n",
    "mixed = (rgbs * (np.matrix(proportions)/ sum(proportions)).T).T\n"
   ]
  },
  {
   "cell_type": "markdown",
   "metadata": {},
   "source": [
    "#### Результат"
   ]
  },
  {
   "cell_type": "code",
   "execution_count": 7,
   "metadata": {
    "collapsed": false
   },
   "outputs": [
    {
     "data": {
      "text/html": [
       "<div style=\"background:#b98fb4\">#b98fb4</div>"
      ],
      "text/plain": [
       "<IPython.core.display.HTML object>"
      ]
     },
     "execution_count": 7,
     "metadata": {},
     "output_type": "execute_result"
    }
   ],
   "source": [
    "import matplotlib.colors as colors\n",
    "from IPython.core.display import HTML\n",
    "\n",
    "result = colors.rgb2hex((mixed[0, 0], mixed[0, 1], mixed[0, 2]))\n",
    "HTML('<div style=\"background:' + result + '\">' + result + '</div>')"
   ]
  },
  {
   "cell_type": "markdown",
   "metadata": {},
   "source": [
    "## Завдання B.a\n",
    "Визначити полярні координати точки, що симетричена відносно полярної вісі точки E(3, -2)"
   ]
  },
  {
   "cell_type": "code",
   "execution_count": 8,
   "metadata": {
    "collapsed": true
   },
   "outputs": [],
   "source": [
    "E_x = 3\n",
    "E_y = -2"
   ]
  },
  {
   "cell_type": "markdown",
   "metadata": {},
   "source": [
    "#### Реалізація"
   ]
  },
  {
   "cell_type": "code",
   "execution_count": 9,
   "metadata": {
    "collapsed": false
   },
   "outputs": [],
   "source": [
    "from math import *\n",
    "\n",
    "# Конвертуємо в полярні\n",
    "E_rho = sqrt(pow(E_x,2) + pow(E_y, 2))\n",
    "E_phi = atan(E_x/E_y)\n",
    "\n",
    "# Інвертуємо від полярної вісі\n",
    "rho = E_rho\n",
    "phi = -E_phi\n"
   ]
  },
  {
   "cell_type": "markdown",
   "metadata": {},
   "source": [
    "#### Результат"
   ]
  },
  {
   "cell_type": "code",
   "execution_count": 10,
   "metadata": {
    "collapsed": false
   },
   "outputs": [
    {
     "data": {
      "text/plain": [
       "(3.605551275463989, 0.982793723247329)"
      ]
     },
     "execution_count": 10,
     "metadata": {},
     "output_type": "execute_result"
    }
   ],
   "source": [
    "(rho, phi)"
   ]
  },
  {
   "cell_type": "markdown",
   "metadata": {},
   "source": [
    "## Завдання B.б\n",
    "Задані точки: A(0,0), B(+5,-3). Визначити координати цих точок при умові, що одиниця довжини буде взята вчетверо більше початкової"
   ]
  },
  {
   "cell_type": "code",
   "execution_count": 11,
   "metadata": {
    "collapsed": true
   },
   "outputs": [],
   "source": [
    "A = (0,0)\n",
    "B = (5, -3)\n",
    "e = 4"
   ]
  },
  {
   "cell_type": "markdown",
   "metadata": {},
   "source": [
    "#### Реалізація"
   ]
  },
  {
   "cell_type": "code",
   "execution_count": 12,
   "metadata": {
    "collapsed": true
   },
   "outputs": [],
   "source": [
    "A2 = (A[0] * e, A[1] * e)\n",
    "B2 = (B[0] * e, B[1] * e)"
   ]
  },
  {
   "cell_type": "markdown",
   "metadata": {},
   "source": [
    "#### Результат"
   ]
  },
  {
   "cell_type": "code",
   "execution_count": 13,
   "metadata": {
    "collapsed": false
   },
   "outputs": [
    {
     "data": {
      "text/plain": [
       "[(0, 0), (20, -12)]"
      ]
     },
     "execution_count": 13,
     "metadata": {},
     "output_type": "execute_result"
    }
   ],
   "source": [
    "[A2, B2]"
   ]
  },
  {
   "cell_type": "markdown",
   "metadata": {},
   "source": [
    "## Завдання B.в\n",
    "Полюс полярної системи співпадає х початком декартових прямокутних координат, а полярна вісь направлена по бісектрисі першого координатного кута. Задані декартові прямокутні координати точки D(-sqrt(3); 1). Визначити полярні координати цієї точки."
   ]
  },
  {
   "cell_type": "code",
   "execution_count": 14,
   "metadata": {
    "collapsed": true
   },
   "outputs": [],
   "source": [
    "from math import *\n",
    "\n",
    "D = (-sqrt(3), 1)"
   ]
  },
  {
   "cell_type": "markdown",
   "metadata": {},
   "source": [
    "#### Рішення"
   ]
  },
  {
   "cell_type": "code",
   "execution_count": 15,
   "metadata": {
    "collapsed": false
   },
   "outputs": [],
   "source": [
    "# Конвертуємо в полярні\n",
    "D_rho = sqrt(pow(D[0],2) + pow(D[1], 2))\n",
    "D_phi = atan(D[0]/D[1])\n",
    "\n",
    "rho = D_rho\n",
    "phi = D_phi - (pi/4)"
   ]
  },
  {
   "cell_type": "markdown",
   "metadata": {},
   "source": [
    "#### Результат"
   ]
  },
  {
   "cell_type": "code",
   "execution_count": 16,
   "metadata": {
    "collapsed": false
   },
   "outputs": [
    {
     "data": {
      "text/plain": [
       "(1.9999999999999998, -1.832595714594046)"
      ]
     },
     "execution_count": 16,
     "metadata": {},
     "output_type": "execute_result"
    }
   ],
   "source": [
    "(rho, phi)"
   ]
  },
  {
   "cell_type": "markdown",
   "metadata": {},
   "source": [
    "## Завдання B.г\n",
    "Перевести координати точки P з однорідного представлення у вигляді (6, 4, 6, 4) в систему афінних координат"
   ]
  },
  {
   "cell_type": "code",
   "execution_count": 17,
   "metadata": {
    "collapsed": true
   },
   "outputs": [],
   "source": [
    "P_h = (6, 4, 6, 4)"
   ]
  },
  {
   "cell_type": "markdown",
   "metadata": {},
   "source": [
    "#### Результат"
   ]
  },
  {
   "cell_type": "code",
   "execution_count": 18,
   "metadata": {
    "collapsed": false
   },
   "outputs": [
    {
     "data": {
      "text/plain": [
       "(1.5, 1.0, 1.5)"
      ]
     },
     "execution_count": 18,
     "metadata": {},
     "output_type": "execute_result"
    }
   ],
   "source": [
    "(P_h[0]/P_h[3], P_h[1]/P_h[3], P_h[2]/P_h[3])"
   ]
  },
  {
   "cell_type": "markdown",
   "metadata": {},
   "source": [
    "## Завдання B.ґ\n",
    "Задані дві точки: A(2;-5), B(2;-9). Початок координат перенесено в точку B, а вісі координат повернуті так, що доадтній напярмок нової вісі абсцис співавдає з напрямоком відрізка ^AB. Вивести формули перетворення координат. "
   ]
  },
  {
   "cell_type": "code",
   "execution_count": 19,
   "metadata": {
    "collapsed": true
   },
   "outputs": [],
   "source": [
    "A = (2, -5)\n",
    "B = (3, -9)"
   ]
  },
  {
   "cell_type": "markdown",
   "metadata": {},
   "source": [
    "#### Рішення"
   ]
  },
  {
   "cell_type": "code",
   "execution_count": 20,
   "metadata": {
    "collapsed": true
   },
   "outputs": [],
   "source": [
    "alpha = atan(B[0]/B[1])"
   ]
  },
  {
   "cell_type": "markdown",
   "metadata": {},
   "source": [
    "#### Результат"
   ]
  },
  {
   "cell_type": "code",
   "execution_count": 21,
   "metadata": {
    "collapsed": false
   },
   "outputs": [],
   "source": [
    "x2 = lambda x: (x - B[0]) * cos(alpha) + (y - B[1]) * sin(alpha)\n",
    "y2 = lambda y: -(x - B[0]) * sin(alpha) + (y - B[1]) * cos(alpha)"
   ]
  },
  {
   "cell_type": "markdown",
   "metadata": {},
   "source": [
    "## Завдання C\n",
    "Скласти рівняння параболи, яка симетрічна відносно вісі y та відсікає на вісі асбцис відрізки +-alpha та на вісі ординат відрізок -betha."
   ]
  },
  {
   "cell_type": "markdown",
   "metadata": {},
   "source": [
    "#### Рішення"
   ]
  },
  {
   "cell_type": "code",
   "execution_count": 22,
   "metadata": {
    "collapsed": false
   },
   "outputs": [],
   "source": [
    "%matplotlib inline\n",
    "import numpy as np\n",
    "import matplotlib.pyplot as plt\n",
    "\n",
    "\n",
    "def factor(alpha, betha):\n",
    "    c = -betha    \n",
    "    a = betha / pow(alpha, 2)\n",
    "    \n",
    "    return lambda x: a * np.power(x, 2) + c "
   ]
  },
  {
   "cell_type": "markdown",
   "metadata": {},
   "source": [
    "#### Результат"
   ]
  },
  {
   "cell_type": "code",
   "execution_count": 23,
   "metadata": {
    "collapsed": false
   },
   "outputs": [
    {
     "data": {
      "image/png": "[encoded data removed]",
      "text/plain": [
       "<matplotlib.figure.Figure at 0x5bc2a90>"
      ]
     },
     "metadata": {},
     "output_type": "display_data"
    }
   ],
   "source": [
    "# Для прикладу використаємо alpha=3, betha=2\n",
    "f = factor(3, 2)\n",
    "\n",
    "x = np.arange(-5, 5, 0.1)\n",
    "\n",
    "plt.plot(x, f(x))\n",
    "plt.show()"
   ]
  },
  {
   "cell_type": "code",
   "execution_count": null,
   "metadata": {
    "collapsed": true
   },
   "outputs": [],
   "source": []
  }
 ],
 "metadata": {
  "kernelspec": {
   "display_name": "Python 3",
   "language": "python",
   "name": "python3"
  },
  "language_info": {
   "codemirror_mode": {
    "name": "ipython",
    "version": 3
   },
   "file_extension": ".py",
   "mimetype": "text/x-python",
   "name": "python",
   "nbconvert_exporter": "python",
   "pygments_lexer": "ipython3",
   "version": "3.4.1"
  }
 },
 "nbformat": 4,
 "nbformat_minor": 0
}
